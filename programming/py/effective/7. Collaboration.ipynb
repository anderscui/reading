{
 "cells": [
  {
   "cell_type": "markdown",
   "metadata": {},
   "source": [
    "# Collaboration\n",
    "\n",
    "There are language features in Python to help you construct well-defined APIs with clear interface boundaries. The Python community has established best practices that maximize the maintainability of code over time. There are also standard tools that ship with Python that enable large teams to work together across disparate environments.\n",
    "\n",
    "## Item 49: Write Docstrings for Every Function, Class, and Module\n",
    "\n",
    "Documentation in Python is extremely important because of the dynamic nature of the language. Python provides built-in support for attaching doc to blocks of code.\n",
    "\n",
    "The documentation from a program's source code is directly accessible as the program runs. Docstrings can be attached to functions, classes, and modules. This connection is part of the process of compiling and running a Python program."
   ]
  },
  {
   "cell_type": "code",
   "execution_count": 2,
   "metadata": {
    "collapsed": false
   },
   "outputs": [
    {
     "name": "stdout",
     "output_type": "stream",
     "text": [
      "'Return True if the given word is a palindrome.'\n"
     ]
    }
   ],
   "source": [
    "def palindrome(word):\n",
    "    \"\"\"Return True if the given word is a palindrome.\"\"\"\n",
    "    return word == word[::-1]\n",
    "\n",
    "print(repr(palindrome.__doc__))"
   ]
  },
  {
   "cell_type": "markdown",
   "metadata": {},
   "source": [
    "Support for docstrings and the `__doc__` attribute has three consequences:\n",
    "* The accessibility of doc makes interactive dev easier. (by `help` built-in function)\n",
    "* A standard way of defining doc makes it easy to build tools that convert the text into more appealing formats (like HTML). ([Sphinx](http://sphinx-doc.org),[Read the Docs](https://readthedocs.org))\n",
    "* Python's first-class, accessible, and good-looking doc encourage people to write more doc.\n",
    "\n",
    "You need to follow [PEP 257](https://www.python.org/dev/peps/pep-0257/).\n",
    "\n",
    "### Documenting Modules\n",
    "\n",
    "Each module should have a top-level docstring. Use \"\"\". The first line of the docstring should be a single sentence describing the module's purpose."
   ]
  },
  {
   "cell_type": "markdown",
   "metadata": {},
   "source": [
    "```python\n",
    "# words.py\n",
    "#!/usr/bin/env python3\n",
    "\"\"\"Library for testing words for various lingustic patterns.\n",
    "\n",
    "Test how words relate to each other can be tricky sometimes.\n",
    "This module ...\n",
    "\n",
    "Available functions:\n",
    "- palindrome: Determine if a word is a palindrome.\n",
    "- check_anagram: Determine if two words are anagrmas.\n",
    "...\n",
    "\"\"\"\n",
    "```"
   ]
  },
  {
   "cell_type": "markdown",
   "metadata": {},
   "source": [
    "### Documenting Classes\n",
    "\n",
    "Each class should have a class-level docstring. This largely follows the same pattern as the module-level docstring.\n",
    "\n",
    "Important public attributes and methods of the class should be highlighted in the class-level docstring.\n",
    "\n",
    "```python\n",
    "class Player(object):\n",
    "    \"\"\"Represents a player of the game.\n",
    "    \n",
    "    Subclasses may override the 'tick' method to provide custom animations for the play's movement depending on their power level, etc.\n",
    "    \n",
    "    Public attributes:\n",
    "    - power: Unused power-ups (float between 0 and 1)\n",
    "    - coins: Coins found during the level (integer)\n",
    "    \"\"\"\n",
    "    \n",
    "    #...\n",
    "```"
   ]
  },
  {
   "cell_type": "markdown",
   "metadata": {},
   "source": [
    "### Documenting Functions\n",
    "\n",
    "Each **public** function and method should have a docstring. This follows the same pattern as modules and classes.\n",
    "\n",
    "```python\n",
    "def find_anagrams(word, dictionary):\n",
    "    \"\"\"Find all anagrams for a word.\n",
    "    \n",
    "    This function only runs as fast as the test for membership in the 'dictionary' container.\n",
    "    It will be slow if the dictionary is a list and fast if it's a set.\n",
    "    \n",
    "    Args:\n",
    "        word: String of the target word.\n",
    "        dictionary: Container with all strings that are known to be actual words.\n",
    "        \n",
    "    Returns:\n",
    "        List of anagrams that were found. Empty if none were found.\n",
    "    \"\"\"\n",
    "    \n",
    "    # ...\n",
    "```"
   ]
  },
  {
   "cell_type": "markdown",
   "metadata": {},
   "source": [
    "## Item 50: Use Packages to Organize Modules and Provide Stable APIs\n",
    "\n",
    "As the size of a program's codebase grows, it's natural for you to reorganize its structure. You split larger funcs into **smaller funcs**. You refactor data structures into **helper classes**. Then maybe you seprarate functionality into various **modules** that depend on each other.\n",
    "\n",
    "At some point, you may find yourself with so many modules that you need another layer in your program to make it understandable. Python provides **packages**, **packages are modules** that contain other modules.\n",
    "\n",
    "In most cases, packages are defined by putting an empty file named `__init__.py` into a directory. Once `__init__.py` is present, any other Python files in that directory will be available for import using a path relative to the directory. Imagine that you have the following dir struct:\n",
    "\n",
    "```\n",
    "main.py\n",
    "mypackage/__init__.py\n",
    "mypackage/models.py\n",
    "mypackage/utils.py\n",
    "```\n",
    "\n",
    "Use the following code to import `utils`:\n",
    "\n",
    "```\n",
    "# in main.py\n",
    "from mypackage import utils\n",
    "```\n",
    "\n",
    "This pattern continues when you have package dir present within other packages.\n",
    "\n",
    "PS: Python 3.4 introduces **namespace packages**.\n",
    "\n",
    "The functionality provided by packages has two primary purposes in Python programs.\n",
    "\n",
    "* Namespaces: when names conflict; use `as`;\n",
    "* Stable APIs: `__all__` special attribute;\n",
    "\n",
    "```python\n",
    "# __init__.py\n",
    "__all__ = []\n",
    "from . models import *\n",
    "__all__ += models.__all__\n",
    "from . utils import *\n",
    "__all__ += utils.__all__\n",
    "```\n"
   ]
  },
  {
   "cell_type": "markdown",
   "metadata": {},
   "source": [
    "## Item 51: Define a Root Exception to Insulate Callers from APIs\n"
   ]
  },
  {
   "cell_type": "markdown",
   "metadata": {},
   "source": [
    "## Item 52: Know How to Break Circular Dependencies\n"
   ]
  },
  {
   "cell_type": "markdown",
   "metadata": {},
   "source": [
    "## Item 53: Use Virtual Environments for Isolated and Reproducible Dependencies\n",
    "\n",
    "Building larger and more complex programs often leads you to rely on various packages from the Python community. You'll find yourself running pip to install packages like `pytz`, `numpy` and many others.\n",
    "\n",
    "The problem is that, by default, `pip` installs new packages in a global location. That causes all Python programs on your system to be affected.\n",
    "\n",
    "**The trouble comes from transitive dependencies: the packages that the packages you install depend on**.\n",
    "\n",
    "Use the command to show dependencies:\n",
    "\n",
    "```shell\n",
    "$ pip show Sphinx\n",
    "```\n",
    "\n",
    "Python can only have a single global version of a module, if Sphinx and flash both depend on `Jinja2`, and we update `Jinja2`, then some breakage would happen in some time.\n",
    "\n",
    "These difficulties are magnified when you colaborate with other programmers who do their work on separate computer. In .NET for third-party packages, we normally use nuget and a xml config file to specify dependencies specific to the current project, it works fine. \n",
    "\n",
    "The similar solution to these problems is a tool called `pyvenv`, which provides **virtual environments**.\n",
    "\n",
    "`pyvenv` allows you to create isolated versions of the Python environment. Using pyvenv, you can have many different versions of the same package installed on the same system at the same time without conflicts. This lets you work on many different projects and use many different tools on the same computer.\n",
    "\n",
    "```shell\n",
    "$ /usr/local/bin/pyvenv ~/works/py/myproj\n",
    "$ cd ~/works/py/myproj\n",
    "$ ls\n",
    "bin  include  lib  pyvenv.cfg\n",
    "```\n",
    "\n",
    "To start the virtual env, we can use the `source` cmd from shell on the `bin/activate`\n",
    "\n",
    "```shell\n",
    "$ source bin/activate\n",
    "(myproj)$\n",
    "\n",
    "(myproj)$ which python3\n",
    ".../myproj/bin/python3\n",
    "```\n",
    "\n",
    "This ensures that changes to the outside system will not affect the virtual env. The virtual env we just created with `pyvenv` starts with no packages installed except for `pip` and `setuptools`. You can verify it with:\n",
    "\n",
    "```shell\n",
    "$ python3 -c 'import pytz'\n",
    "Traceback (most recent call last):\n",
    "  File \"<string>\", line 1, in <module>\n",
    "ImportError: No module named 'pytz'\n",
    "```\n",
    "\n",
    "```shell\n",
    "$ python3 -c 'import pytz'\n",
    "```\n",
    "\n",
    "We can use `deactivate` cmd to restore the env of the system defaults."
   ]
  },
  {
   "cell_type": "markdown",
   "metadata": {},
   "source": [
    "### Reproducing Dependencies\n",
    "\n",
    "Once you have a virtual environment, you can continue installing packages with pip as you need them. Eventually, you may want to copy your environment somewhere else. For example, say you want to **reproduce your development environment on a production server**. Or maybe you want to **clone someone else’s environment on your own machine** so you can run their code.\n",
    "\n",
    "`pyvenv` makes these situations easy. You can use the `pip freeze` command to save all of your explicit package dependencies into a file. By convention, this file is named **requirements.txt**.\n",
    "\n",
    "```shell\n",
    "$ pip3 freeze > requirements.txt\n",
    "$ cat requirements.txt\n",
    "numpy==1.11.0\n",
    "pytz==2016.4\n",
    "```\n",
    "\n",
    "Then create a new env named 'newproj', check installed packages and install other via requirements.txt:\n",
    "\n",
    "```shell\n",
    "$ pip3 list\n",
    "pip (7.1.2)\n",
    "setuptools (18.2)\n",
    "\n",
    "$ pip3 install -r ../myproj/requirements.txt\n",
    "```\n",
    "\n",
    "The gotchar with virtual environments is that moving them breaks everything because all of the paths, like `python3`, are hard-coded to the env's install dir.\n",
    "\n",
    "In versions of Python before 3.4, the `pyvenv` tool must be downloaded and installed separately, the command-line tool is called `virtualenv`."
   ]
  },
  {
   "cell_type": "code",
   "execution_count": null,
   "metadata": {
    "collapsed": true
   },
   "outputs": [],
   "source": []
  }
 ],
 "metadata": {
  "kernelspec": {
   "display_name": "Python 3",
   "language": "python",
   "name": "python3"
  },
  "language_info": {
   "codemirror_mode": {
    "name": "ipython",
    "version": 3
   },
   "file_extension": ".py",
   "mimetype": "text/x-python",
   "name": "python",
   "nbconvert_exporter": "python",
   "pygments_lexer": "ipython3",
   "version": "3.5.1"
  }
 },
 "nbformat": 4,
 "nbformat_minor": 0
}
