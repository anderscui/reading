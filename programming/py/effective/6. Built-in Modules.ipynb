{
 "cells": [
  {
   "cell_type": "markdown",
   "metadata": {},
   "source": [
    "# 6. Built-in Modules\n",
    "\n",
    "Python takes a \"batteries included\" approach to the standard library.\n",
    "\n",
    "The full set of standard modules is too large to cover in one chapter. But some of these built-in packages are so closely interwined with idiomatic Python that they may as well be part of the lan spec.\n"
   ]
  },
  {
   "cell_type": "markdown",
   "metadata": {},
   "source": [
    "## Item 42: Define Function Decorators with functools.wraps\n",
    "\n",
    "Python has special syntax for decorators that can be applied to functions. Decorators have the ability to run additional code before and after any calls to the functions they wrap. This allows them to access and modify input arguments and return values. This functionality can be useful for enforcing semantics, debugging, registering functions, and more.\n",
    "\n",
    "For example, say you want to print the arguments and return value of a function call. This is especially helpful when debugging a stack of function calls from a recursive function."
   ]
  },
  {
   "cell_type": "code",
   "execution_count": 1,
   "metadata": {
    "collapsed": false
   },
   "outputs": [
    {
     "name": "stdout",
     "output_type": "stream",
     "text": [
      "fib((1,), {}) -> 1\n",
      "fib((0,), {}) -> 0\n",
      "fib((2,), {}) -> 1\n",
      "fib((1,), {}) -> 1\n",
      "fib((3,), {}) -> 2\n"
     ]
    },
    {
     "data": {
      "text/plain": [
       "2"
      ]
     },
     "execution_count": 1,
     "metadata": {},
     "output_type": "execute_result"
    }
   ],
   "source": [
    "def trace(func):\n",
    "    def wrapper(*args, **kwargs):\n",
    "        result = func(*args, **kwargs)\n",
    "        print('%s(%r, %r) -> %r' % \n",
    "            (func.__name__, args, kwargs, result))\n",
    "        return result\n",
    "    return wrapper\n",
    "\n",
    "@trace\n",
    "def fib(n):\n",
    "    if n in (0, 1):\n",
    "        return n\n",
    "    return fib(n-1) + fib(n-2)\n",
    "\n",
    "fib(3)"
   ]
  },
  {
   "cell_type": "markdown",
   "metadata": {},
   "source": [
    "The `@` symbol is equivalent to calling the deco on the func it wraps and assigning the return value to the original name **in the same scope**.\n",
    "\n",
    "```python\n",
    "fib = trace(fib)\n",
    "```\n",
    "\n",
    "This works well, but the func doesn't think it's named `fib`."
   ]
  },
  {
   "cell_type": "code",
   "execution_count": 2,
   "metadata": {
    "collapsed": false
   },
   "outputs": [
    {
     "data": {
      "text/plain": [
       "<function __main__.trace.<locals>.wrapper>"
      ]
     },
     "execution_count": 2,
     "metadata": {},
     "output_type": "execute_result"
    }
   ],
   "source": [
    "fib"
   ]
  },
  {
   "cell_type": "markdown",
   "metadata": {},
   "source": [
    "This behavior is problematic because it undermines tools that do introspection, such as debuggers and object serializers. e.g. the `help` func.\n",
    "\n",
    "The solution is to use the `wraps` helper func from the `functools` module. **Applying it to the wrapper func will copy all of the important metadata about the inner func to the outer function**."
   ]
  },
  {
   "cell_type": "code",
   "execution_count": 5,
   "metadata": {
    "collapsed": false
   },
   "outputs": [
    {
     "name": "stdout",
     "output_type": "stream",
     "text": [
      "fib((1,), {}) -> 1\n",
      "fib((0,), {}) -> 0\n",
      "fib((2,), {}) -> 1\n",
      "fib((1,), {}) -> 1\n",
      "fib((3,), {}) -> 2\n"
     ]
    },
    {
     "data": {
      "text/plain": [
       "2"
      ]
     },
     "execution_count": 5,
     "metadata": {},
     "output_type": "execute_result"
    }
   ],
   "source": [
    "from functools import wraps\n",
    "\n",
    "def trace(func):\n",
    "    @wraps(func)\n",
    "    def wrapper(*args, **kwargs):\n",
    "        result = func(*args, **kwargs)\n",
    "        print('%s(%r, %r) -> %r' % \n",
    "            (func.__name__, args, kwargs, result))\n",
    "        return result\n",
    "    return wrapper\n",
    "\n",
    "@trace\n",
    "def fib(n):\n",
    "    \"\"\"Return the n-th Fibonacci number.\"\"\"\n",
    "    if n in (0, 1):\n",
    "        return n\n",
    "    return fib(n-1) + fib(n-2)\n",
    "\n",
    "fib(3)"
   ]
  },
  {
   "cell_type": "code",
   "execution_count": 6,
   "metadata": {
    "collapsed": false
   },
   "outputs": [
    {
     "data": {
      "text/plain": [
       "<function __main__.fib>"
      ]
     },
     "execution_count": 6,
     "metadata": {},
     "output_type": "execute_result"
    }
   ],
   "source": [
    "fib"
   ]
  },
  {
   "cell_type": "code",
   "execution_count": 7,
   "metadata": {
    "collapsed": false
   },
   "outputs": [
    {
     "name": "stdout",
     "output_type": "stream",
     "text": [
      "Help on function fib in module __main__:\n",
      "\n",
      "fib(n)\n",
      "    Return the n-th Fibonacci number.\n",
      "\n"
     ]
    }
   ],
   "source": [
    "help(fib)"
   ]
  },
  {
   "cell_type": "markdown",
   "metadata": {},
   "source": [
    "Things to Remember\n",
    "* Decorators are Python syntax for allowing one function to modify another function at runtime.\n",
    "* Using decorators can cause strange behaviors in tools that do introspection, such as debuggers.\n",
    "* Use the wraps decorator from the functools built-in module when you define your own decorators to avoid any issues."
   ]
  },
  {
   "cell_type": "markdown",
   "metadata": {},
   "source": [
    "## Item 43: Consider contextlib and with Statements for Reusable try/finally Behavior\n",
    "\n",
    "The with statement in Python is used to indicate when code is running in a special context. For example, mutual exclusion locks (see Item 38: “Use Lock to Prevent Data Races in Threads”) can be used in with statements to indicate that the indented code only runs while the lock is held."
   ]
  },
  {
   "cell_type": "code",
   "execution_count": 9,
   "metadata": {
    "collapsed": false
   },
   "outputs": [
    {
     "name": "stdout",
     "output_type": "stream",
     "text": [
      "Lock is held\n"
     ]
    }
   ],
   "source": [
    "from multiprocessing import Lock\n",
    "\n",
    "lock = Lock()\n",
    "with lock:\n",
    "    print('Lock is held')"
   ]
  },
  {
   "cell_type": "code",
   "execution_count": 11,
   "metadata": {
    "collapsed": false
   },
   "outputs": [
    {
     "name": "stdout",
     "output_type": "stream",
     "text": [
      "Lock is held\n"
     ]
    }
   ],
   "source": [
    "# It's equivalent to\n",
    "lock.acquire()\n",
    "try:\n",
    "    print('Lock is held')\n",
    "finally:\n",
    "    lock.release()"
   ]
  },
  {
   "cell_type": "markdown",
   "metadata": {},
   "source": [
    "The `with` statement version of this is better because it **eliminates the need to write the repetitive code of the try/finally construction**. It’s easy to make your objects and functions capable of use in with statements by using the **contextlib** built-in module. This module contains the **contextmanager decorator**, which lets a simple function be used in with statements. This is much easier than defining a new class with the special methods `__enter__` and `__exit__` (the standard way).\n",
    "\n",
    "For example, say you want a region of your code to have more debug logging sometimes. Here, I define a function that does logging at two severity levels:"
   ]
  },
  {
   "cell_type": "code",
   "execution_count": 12,
   "metadata": {
    "collapsed": true
   },
   "outputs": [],
   "source": [
    "import logging\n",
    "\n",
    "logging.basicConfig(level=logging.WARNING)\n",
    "\n",
    "def my_func():\n",
    "    logging.debug('Some debug data')\n",
    "    logging.error('Error log data')\n",
    "    logging.debug('More debug data')\n",
    "    \n",
    "my_func()"
   ]
  },
  {
   "cell_type": "code",
   "execution_count": 15,
   "metadata": {
    "collapsed": false
   },
   "outputs": [
    {
     "name": "stdout",
     "output_type": "stream",
     "text": [
      "Inside: \n",
      "After: \n"
     ]
    }
   ],
   "source": [
    "import logging\n",
    "from contextlib import contextmanager\n",
    "\n",
    "\n",
    "def my_func():\n",
    "    logging.debug('Some debug data')\n",
    "    logging.error('Error log data')\n",
    "    logging.debug('More debug data')\n",
    "\n",
    "\n",
    "@contextmanager\n",
    "def debug_logging(level):\n",
    "    logger = logging.getLogger()\n",
    "    old_level = logger.getEffectiveLevel()\n",
    "    logger.setLevel(level)\n",
    "    try:\n",
    "        yield\n",
    "    finally:\n",
    "        logger.setLevel(old_level)\n",
    "\n",
    "with debug_logging(logging.DEBUG):\n",
    "    print('Inside: ')\n",
    "    my_func()\n",
    "\n",
    "print('After: ')\n",
    "my_func()\n"
   ]
  },
  {
   "cell_type": "markdown",
   "metadata": {},
   "source": [
    "### Using with Targets\n",
    "\n",
    "The context manager passed to a `with` statement may also return an object. This object is assigned to a local variable in the as part of the compound statement. This gives the code running in the `with` block the ability to directly interact with its context.\n",
    "\n",
    "For example, say you want to write a file and ensure that it’s always closed correctly. You can do this by passing `open` to the `with` statement. open returns a file handle for the `as` target of `with` and will close the handle when the `with` block exits.\n",
    "\n",
    "```python\n",
    "with open('/tmp/my_output.txt', 'w') as handle:\n",
    "    handle.write('This is some data!')\n",
    "```\n",
    "\n",
    "**This approach is preferable to manually opening and closing the file handle every time.** It gives you confidence that the file is eventually closed when execution leaves the with statement. It also encourages you to reduce the amount of code that executes while the file handle is open, which is good practice in general.\n",
    "\n",
    "To enable your own functions to supply values for as targets, all you need to do is `yield` a value from ur context manager.\n",
    "\n",
    "Things to Remember\n",
    "* The with statement allows you to reuse logic from try/finally blocks and reduce visual noise.\n",
    "* The contextlib built-in module provides a contextmanager decorator that makes it easy to use your own functions in with statements.\n",
    "* The value yielded by context managers is supplied to the as part of the with statement. It’s useful for letting your code directly access the cause of the special context."
   ]
  },
  {
   "cell_type": "markdown",
   "metadata": {},
   "source": [
    "## Item 44: Make pickle Reliable with copyreg\n",
    "\n",
    "The pickle built-in module can serialize Python objects into a stream of bytes and deserialize bytes back into objects. Pickled byte streams shouldn’t be used to communicate between untrusted parties. The purpose of pickle is to let you pass Python objects between programs that you control over binary channels.\n",
    "\n",
    "**The pickle module’s serialization format is unsafe by design**. The serialized data contains what is essentially a program that describes how to reconstruct the original Python object. This means a malicious pickle payload could be used to compromise any part of the Python program that attempts to deserialize it.\n",
    "\n",
    "In contrast, **the json module is safe by design**. Serialized JSON data contains a simple description of an object hierarchy. Deserializing JSON data does not expose a Python program to any additional risk. Formats like JSON should be used for communication between programs or people that don’t trust each other."
   ]
  },
  {
   "cell_type": "markdown",
   "metadata": {},
   "source": [
    "## Item 45: Use datatime Instead of time for Local Clocks\n",
    "\n",
    "Coordinated Universal Time (UTC) is the standard, time-zone-independent representation of time. UTC works great for computers that represent time as seconds since the UNIX epoch. But UTC isn’t ideal for humans. Humans reference time relative to where they’re currently located. People say “noon” or “8 am” instead of “UTC 15:00 minus 7 hours.” If your program handles time, you’ll probably find yourself converting time between UTC and local clocks to make it easier for humans to understand.\n",
    "\n",
    "Python provides two ways of accomplishing time zone conversions. The old way, using the `time` built-in module, is disastrously error prone. The new way, using the `datetime` built-in module, works great with some help from the community-built package named `pytz`.\n",
    "\n",
    "You should be acquainted with both time and datetime to thoroughly understand why **datetime is the best choice and time should be avoided**.\n"
   ]
  },
  {
   "cell_type": "code",
   "execution_count": 12,
   "metadata": {
    "collapsed": false
   },
   "outputs": [
    {
     "data": {
      "text/plain": [
       "'2014-08-11 02:18:30'"
      ]
     },
     "execution_count": 12,
     "metadata": {},
     "output_type": "execute_result"
    }
   ],
   "source": [
    "from time import localtime, strftime\n",
    "\n",
    "now = 1407694710\n",
    "local_tuple = localtime(now)\n",
    "time_format = '%Y-%m-%d %H:%M:%S'\n",
    "time_str = strftime(time_format, local_tuple)\n",
    "time_str"
   ]
  },
  {
   "cell_type": "code",
   "execution_count": 13,
   "metadata": {
    "collapsed": false
   },
   "outputs": [
    {
     "name": "stdout",
     "output_type": "stream",
     "text": [
      "1407694710.0\n"
     ]
    }
   ],
   "source": [
    "from time import mktime, strptime\n",
    "\n",
    "time_tuple = strptime(time_str, time_format)\n",
    "utc_now = mktime(time_tuple)\n",
    "print(utc_now)"
   ]
  },
  {
   "cell_type": "markdown",
   "metadata": {},
   "source": [
    "**The time module fails to consistently work properly for multiple local times.** Thus, you should avoid the time module for this purpose. If you must use time, only use it to convert between UTC and the host computer’s local time. **For all other types of conversions, use the `datetime` module.**\n",
    "\n",
    "...\n",
    "\n",
    "To use `pytz` effectively, you should **always convert local times to UTC first**. Perform any datetime operations you need on the UTC values (such as offsetting). Then, convert to local times as a final step."
   ]
  },
  {
   "cell_type": "markdown",
   "metadata": {},
   "source": [
    "## Item 46: Use Built-in Algorithms and Data Structures\n",
    "\n",
    "When you’re implementing Python programs that handle a non-trivial amount of data, you’ll eventually see slowdowns caused by the algorithmic complexity of your code. This usually isn’t the result of Python’s speed as a language (see Item 41: “Consider concurrent.futures for True Parallelism” if it is). The issue, more likely, is that you aren’t using the best algorithms and data structures for your problem.\n",
    "\n",
    "Luckily, the Python standard library has many of the algorithms and data structures you’ll need to use built in. Besides speed, using these common algorithms and data structures can make your life easier. Some of the most valuable tools you may want to use are tricky to implement correctly. Avoiding reimplementation of common functionality will save you time and headaches.\n",
    "\n",
    "### Double-ended Queue\n",
    "\n",
    "The `deque` class from `collections` module is a double-ended deque. **It provides constant time operations for inserting or removing items from its beginning or end**. This makes it **ideal for FIFO queues**."
   ]
  },
  {
   "cell_type": "code",
   "execution_count": 16,
   "metadata": {
    "collapsed": false
   },
   "outputs": [
    {
     "data": {
      "text/plain": [
       "1"
      ]
     },
     "execution_count": 16,
     "metadata": {},
     "output_type": "execute_result"
    }
   ],
   "source": [
    "from collections import deque\n",
    "\n",
    "fifo = deque()\n",
    "fifo.append(1)\n",
    "x = fifo.popleft()\n",
    "x"
   ]
  },
  {
   "cell_type": "markdown",
   "metadata": {},
   "source": [
    "### Ordered Dictionary\n",
    "\n",
    "Standard dictionaries are unordered. That means a `dict` with the same keys and values can result in different orders of iteration. This behavior is a surprising byproduct of the way the dictionary’s fast hash table is implemented."
   ]
  },
  {
   "cell_type": "code",
   "execution_count": 17,
   "metadata": {
    "collapsed": false
   },
   "outputs": [
    {
     "name": "stdout",
     "output_type": "stream",
     "text": [
      "{'bar': 2, 'foo': 1}\n",
      "{'foo': 1, 'bar': 2}\n"
     ]
    }
   ],
   "source": [
    "from random import randint\n",
    "\n",
    "a = {}\n",
    "a['foo'] = 1\n",
    "a['bar'] = 2\n",
    "\n",
    "while True:\n",
    "    z = randint(99, 1013)\n",
    "    b = {}\n",
    "    for i in range(z):\n",
    "        b[i] = i\n",
    "    b['foo'] = 1\n",
    "    b['bar'] = 2\n",
    "    for i in range(z):\n",
    "        del b[i]\n",
    "    if str(b) != str(a):\n",
    "        break\n",
    "        \n",
    "print(a)\n",
    "print(b)"
   ]
  },
  {
   "cell_type": "markdown",
   "metadata": {},
   "source": [
    "The `OrderedDict` class from the `collections` module is a special type of dictionary that **keeps track of the order in which its keys were inserted**. Iterating the keys of an `OrderedDict` has predictable behavior. This can vastly simplify testing and debugging by making all code deterministic."
   ]
  },
  {
   "cell_type": "code",
   "execution_count": 18,
   "metadata": {
    "collapsed": false
   },
   "outputs": [
    {
     "name": "stdout",
     "output_type": "stream",
     "text": [
      "1 red\n",
      "2 blue\n"
     ]
    }
   ],
   "source": [
    "from collections import OrderedDict\n",
    "\n",
    "a = OrderedDict()\n",
    "a['foo'] = 1\n",
    "a['bar'] = 2\n",
    "\n",
    "b = OrderedDict()\n",
    "b['foo'] = 'red'\n",
    "b['bar'] = 'blue'\n",
    "\n",
    "for v1, v2 in zip(a.values(), b.values()):\n",
    "    print(v1, v2)"
   ]
  },
  {
   "cell_type": "markdown",
   "metadata": {},
   "source": [
    "### Default Dictionary\n",
    "\n",
    "Dictionaries are useful for bookkeeping and tracking statistics. One problem with dictionaries is that you can’t assume any keys are already present. That makes it clumsy to do simple things like increment a counter stored in a dictionary.\n",
    "\n",
    "The `defaultdict` class from the `collections` module simplifies this by automatically storing a default value when a key doesn’t exist. All you have to do is **providing a function that will return the default value each time a key is missing**. In this example, the `int` built-in function returns 0 (see Item 23: “Accept Functions for Simple Interfaces Instead of Classes” for another example). Now, incrementing a counter is simple."
   ]
  },
  {
   "cell_type": "code",
   "execution_count": 19,
   "metadata": {
    "collapsed": false
   },
   "outputs": [
    {
     "name": "stdout",
     "output_type": "stream",
     "text": [
      "1\n",
      "0\n"
     ]
    }
   ],
   "source": [
    "from collections import defaultdict\n",
    "\n",
    "stats = defaultdict(int)\n",
    "stats['counter'] += 1\n",
    "print(stats['counter'])\n",
    "\n",
    "print(stats['counter2'])"
   ]
  },
  {
   "cell_type": "markdown",
   "metadata": {},
   "source": [
    "### Heap Queue\n",
    "\n",
    "Heaps are useful data structures for maintaining a priority queue. The `heapq` module provides functions for **creating heaps in standard list types with functions like heappush, heappop, and nsmallest**.\n",
    "\n",
    "Items of any priority can be inserted into the heap in any order.\n",
    "\n",
    "**Items are always removed by highest priority (lowest number) first.**"
   ]
  },
  {
   "cell_type": "code",
   "execution_count": 22,
   "metadata": {
    "collapsed": false
   },
   "outputs": [
    {
     "name": "stdout",
     "output_type": "stream",
     "text": [
      "[3, 4, 7, 5]\n",
      "3 4 5 7\n"
     ]
    }
   ],
   "source": [
    "from heapq import heappush, heappop\n",
    "\n",
    "a = []\n",
    "heappush(a, 5)\n",
    "heappush(a, 3)\n",
    "heappush(a, 7)\n",
    "heappush(a, 4)\n",
    "\n",
    "print(a)\n",
    "print(heappop(a), heappop(a), heappop(a), heappop(a))"
   ]
  },
  {
   "cell_type": "markdown",
   "metadata": {},
   "source": [
    "Accessing the 0 index of the heap will always return the smallest item.\n",
    "\n",
    "**Each of these heapq operations takes logarithmic time in proportion to the length of the list.** Doing the same work with a standard Python list would scale linearly.\n",
    "\n",
    "### Bisection\n",
    "\n",
    "Searching for an item in a list takes linear time proportional to its length when you call the index method.\n",
    "\n",
    "The `bisect` module’s functions, such as `bisect_left`, provide an efficient binary search through a sequence of sorted items. The index it returns is the insertion point of the value into the sequence.\n",
    "\n",
    "The complexity of a binary search is logarithmic. That means using `bisect` to search a list of 1 million items takes roughly the same amount of time as using index to linearly search a list of 14 items. **It’s way faster!**"
   ]
  },
  {
   "cell_type": "code",
   "execution_count": 34,
   "metadata": {
    "collapsed": true
   },
   "outputs": [],
   "source": [
    "from bisect import bisect_left\n",
    "\n",
    "x = list(range(10**8))"
   ]
  },
  {
   "cell_type": "code",
   "execution_count": 35,
   "metadata": {
    "collapsed": true
   },
   "outputs": [],
   "source": [
    "i = x.index(99991234)"
   ]
  },
  {
   "cell_type": "code",
   "execution_count": 36,
   "metadata": {
    "collapsed": true
   },
   "outputs": [],
   "source": [
    "# much faster\n",
    "i = bisect_left(x, 99991234)"
   ]
  },
  {
   "cell_type": "markdown",
   "metadata": {},
   "source": [
    "### Iterator Tools\n",
    "\n",
    "The `itertools` built-in module contains a large number of functions that are **useful for organizing and interacting with iterators** (see Item 16: “Consider Generators Instead of Returning Lists” and Item 17: “Be Defensive When Iterating Over Arguments” for background). Not all of these are available in Python 2, but they can easily be built using simple recipes documented in the module. See help(itertools) in an interactive Python session for more details.\n",
    "\n",
    "**The itertools functions fall into three main categories**:\n",
    "\n",
    "**Linking iterators together**\n",
    "* chain: Combines multiple iterators into a single sequential iterator.\n",
    "* cycle: Repeats an iterator’s items forever.\n",
    "* tee: Splits a single iterator into multiple parallel iterators.\n",
    "* zip_longest: A variant of the zip built-in function that works well with iterators of different lengths.\n",
    "\n",
    "**Filtering items from an iterator**\n",
    "* islice: Slices an iterator by numerical indexes without copying.\n",
    "* takewhile: Returns items from an iterator while a predicate function returns True.\n",
    "* dropwhile: Returns items from an iterator once the predicate function returns False for the first time.\n",
    "* filterfalse: Returns all items from an iterator where a predicate function returns False. The opposite of the filter built-in function.\n",
    "\n",
    "**Combinations of items from iterators**\n",
    "* product: Returns the Cartesian product of items from an iterator, which is a nice alternative to deeply nested list comprehensions.\n",
    "* permutations: Returns ordered permutations of length N with items from an iterator.\n",
    "* combination: Returns the unordered combinations of length N with unrepeated items from an iterator.\n",
    "\n",
    "There are even more functions and recipes available in the itertools module that I don’t mention here. Whenever you find yourself dealing with some tricky iteration code, it’s worth looking at the itertools documentation again to see whether there’s anything there for you to use.\n",
    "\n",
    "Things to Remember\n",
    "* Use Python’s built-in modules for algorithms and data structures.\n",
    "* Don’t reimplement this functionality yourself. It’s hard to get right."
   ]
  },
  {
   "cell_type": "markdown",
   "metadata": {},
   "source": [
    "## Item 47: Use decimal When Precision Is Paramout\n",
    "\n",
    "Python is an excellent language for writing code that interacts with numerical data. Python’s integer type can represent values of any practical size. Its double-precision floating point type complies with the **IEEE 754 standard**. The language also provides a **standard complex number type** for imaginary values. However, these aren’t enough for every situation."
   ]
  },
  {
   "cell_type": "code",
   "execution_count": 2,
   "metadata": {
    "collapsed": false
   },
   "outputs": [
    {
     "data": {
      "text/plain": [
       "5.364999999999999"
      ]
     },
     "execution_count": 2,
     "metadata": {},
     "output_type": "execute_result"
    }
   ],
   "source": [
    "# cost of calling\n",
    "rate = 1.45\n",
    "seconds = 3*60 + 42\n",
    "cost = rate * seconds / 60\n",
    "cost"
   ]
  },
  {
   "cell_type": "code",
   "execution_count": 3,
   "metadata": {
    "collapsed": false
   },
   "outputs": [
    {
     "data": {
      "text/plain": [
       "5.36"
      ]
     },
     "execution_count": 3,
     "metadata": {},
     "output_type": "execute_result"
    }
   ],
   "source": [
    "round(cost, 2)"
   ]
  },
  {
   "cell_type": "code",
   "execution_count": 4,
   "metadata": {
    "collapsed": false
   },
   "outputs": [
    {
     "name": "stdout",
     "output_type": "stream",
     "text": [
      "0.004166666666666667\n",
      "0.0\n"
     ]
    }
   ],
   "source": [
    "rate = 0.05\n",
    "seconds = 5\n",
    "cost = rate * seconds / 60\n",
    "print(cost)\n",
    "print(round(cost, 2))"
   ]
  },
  {
   "cell_type": "markdown",
   "metadata": {},
   "source": [
    "The solution is to use the `Decimal` class from the `decimal` built-in module. The Decimal class provides fixed point math of 28 decimal points by default. It can go even higher if required. This works around the precision issues in IEEE 754 floating point numbers. The class also gives you more control over rounding behaviors."
   ]
  },
  {
   "cell_type": "code",
   "execution_count": 8,
   "metadata": {
    "collapsed": false
   },
   "outputs": [
    {
     "name": "stdout",
     "output_type": "stream",
     "text": [
      "5.365\n",
      "5.37\n"
     ]
    }
   ],
   "source": [
    "from decimal import Decimal, ROUND_UP\n",
    "\n",
    "rate = Decimal('1.45')\n",
    "seconds = Decimal('222')\n",
    "cost = rate * seconds / Decimal('60')\n",
    "print(cost)\n",
    "\n",
    "# rounding\n",
    "rounded = cost.quantize(Decimal('0.01'), rounding=ROUND_UP)\n",
    "print(rounded)"
   ]
  },
  {
   "cell_type": "code",
   "execution_count": 10,
   "metadata": {
    "collapsed": false
   },
   "outputs": [
    {
     "name": "stdout",
     "output_type": "stream",
     "text": [
      "0.004166666666666666666666666667\n",
      "0.01\n"
     ]
    }
   ],
   "source": [
    "rate = Decimal('0.05')\n",
    "seconds = Decimal('5')\n",
    "cost = rate * seconds / Decimal('60')\n",
    "print(cost)\n",
    "\n",
    "# rounding\n",
    "rounded = cost.quantize(Decimal('0.01'), rounding=ROUND_UP)\n",
    "print(rounded)"
   ]
  },
  {
   "cell_type": "markdown",
   "metadata": {},
   "source": [
    "`Decimal` class still has limitations in its precision (e.g., 1/3). For representing retional numbers with no limit to precision, consider using the **Fraction** class in `fractions` module."
   ]
  },
  {
   "cell_type": "markdown",
   "metadata": {},
   "source": [
    "## Item 48: Know Where to Find Community-Built Modules\n",
    "\n",
    "“Python has a central repository of modules (https://pypi.python.org) for you to install and use in your programs. These modules are built and maintained by people like you: the Python community. When you find yourself facing an unfamiliar challenge, the Python Package Index (PyPI) is a great place to look for code that will get you closer to your goal.\n",
    "\n",
    "To use the Package Index, you’ll need to use a command-line tool named `pip`. `pip` is installed by default in Python 3.4 and above (it’s also accessible with `python -m pip`). For earlier versions, you can find instructions for installing `pip` on the Python Packaging website (https://packaging.python.org).\n",
    "\n",
    "Once installed, using `pip` to install a new module is simple. For example, here I install the `pytz` module that I used in another item in this chapter (see Item 45: “Use datetime Instead of time for Local Clocks”):\n",
    "\n",
    "```shell\n",
    "$ pip install pytz\n",
    "```\n",
    "\n",
    "Each module in the PyPI has its own software license. Most of the packages, especially the popular ones, have free or open source licenses (see http://opensource.org for details). In most cases, these licenses allow you to include a copy of the module with your program (when in doubt, talk to a lawyer).\n",
    "\n",
    "Things to Remember\n",
    "* The Python Package Index (PyPI) contains a wealth of common packages that are built and maintained by the Python community.\n",
    "* pip is the command-line tool to use for installing packages from PyPI.\n",
    "* pip is installed by default in Python 3.4 and above; you must install it yourself for older versions.\n",
    "* The majority of PyPI modules are free and open source software."
   ]
  },
  {
   "cell_type": "code",
   "execution_count": null,
   "metadata": {
    "collapsed": true
   },
   "outputs": [],
   "source": []
  }
 ],
 "metadata": {
  "kernelspec": {
   "display_name": "Python 3",
   "language": "python",
   "name": "python3"
  },
  "language_info": {
   "codemirror_mode": {
    "name": "ipython",
    "version": 3
   },
   "file_extension": ".py",
   "mimetype": "text/x-python",
   "name": "python",
   "nbconvert_exporter": "python",
   "pygments_lexer": "ipython3",
   "version": "3.5.1"
  }
 },
 "nbformat": 4,
 "nbformat_minor": 0
}
