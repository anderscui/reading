{
 "cells": [
  {
   "cell_type": "markdown",
   "metadata": {
    "collapsed": true
   },
   "source": [
    "# Production\n",
    "\n",
    "Putting a Python program to use requires moving it from a dev env to a production env. **Supporting disparate config like this can be a challenge**.\n",
    "\n",
    "The goal is to *productionize* your Python programs and make them bulletproof while they're in use. Python has built-in modules that aid in hardening your programs."
   ]
  },
  {
   "cell_type": "markdown",
   "metadata": {},
   "source": [
    "## Item 54: Consider Module-Scoped Code to Configure Deployment Envs\n",
    "\n",
    "A deployment env is a config in which your program runs. Every program has at least one deployment env, the **production env**.\n",
    "\n",
    "Writing or modifying a program requires being able to run it on the computer you use for developing. The config of your **dev env** may be much different rom your prod env.\n",
    "\n",
    "A good way to work around is to override parts of your program at startup time to provide different functionality depending on the deployment env. e.g. u could have two diff `__main__` files, one for prod and one for dev.\n",
    "\n",
    "```python\n",
    "# dev_main.py\n",
    "TESTING = True\n",
    "import db_connection\n",
    "db = db_connection.Database()\n",
    "\n",
    "# prod_main.py\n",
    "TESTING = False\n",
    "import db_connection\n",
    "db = db_connection.Database()\n",
    "\n",
    "# db_connection.py\n",
    "import __main__\n",
    "\n",
    "if __main__.TESTING:\n",
    "    # Database = TestDatabase\n",
    "else:\n",
    "    # Database = RealDatabase\n",
    "```\n",
    "\n",
    "This approach can be used for more than working around external assumptions. e.g. if u know that ur program must work differently based on its host platform, you can inspect the `sys` module before defining top-level constructs in a module.\n",
    "\n",
    "```python\n",
    "# db_connection.py\n",
    "import sys\n",
    "\n",
    "if sys.platform.startswith('win32'):\n",
    "    # Database = Win32Database\n",
    "else:\n",
    "    # Database = PosixDatabase\n",
    "```\n"
   ]
  },
  {
   "cell_type": "markdown",
   "metadata": {},
   "source": [
    "## Item 52: Use `repr` Strings for Debugging Output"
   ]
  },
  {
   "cell_type": "markdown",
   "metadata": {},
   "source": [
    "## Item 53: Test Everything with `unittest`\n",
    "\n",
    "Python doesn’t have static type checking. There’s nothing in the compiler that will ensure that your program will work when you run it. With Python you don’t know whether the functions your program calls will be defined at runtime, even when their existence is evident in the source code. This dynamic behavior is a blessing and a curse.\n",
    "\n",
    "The large numbers of Python programmers out there say **it’s worth it because of the productivity gained from the resulting brevity and simplicity**. But most people have heard at least one horror story about Python in which a program encountered a boneheaded error at runtime.\n",
    "\n",
    "Type safety isn't everything, you should always test your code, regardless of what language it's written in. However, I’ll admit that the big difference between Python and many other languages is that **the only way to have any confidence in a Python program is by writing tests**.\n",
    "\n",
    "Luckily, the same dynamic features that prevent static type checking in Python also make it extremely easy to write tests for ur code.\n",
    "\n",
    "**Having good tests actually makes it easier to modify Python code, not harder**.\n",
    "\n",
    "The simplest way to write tests is to use the `unittest` built-in module.\n",
    "\n",
    "```python\n",
    "# utils.py\n",
    "def to_str(data):\n",
    "\tif isinstance(data, str):\n",
    "\t\treturn data\n",
    "\telif isinstance(data, bytes):\n",
    "\t\treturn data.decode('utf-8')\n",
    "\telse:\n",
    "\t\traise TypeError('Must supply str or bytes, '\n",
    "\t\t\t'found: %r' % data)\n",
    "```\n",
    "\n",
    "```python\n",
    "# test_utils.py\n",
    "from unittest import TestCase, main\n",
    "from utils import to_str\n",
    "\n",
    "\n",
    "class UtilsTestCase(TestCase):\n",
    "\tdef test_to_str_bytes(self):\n",
    "\t\tself.assertEqual('hello', to_str(b'hello'))\n",
    "\n",
    "\tdef test_to_str_str(self):\n",
    "\t\tself.assertEqual('hello', to_str('hello'))\n",
    "\n",
    "\tdef test_to_str_bad(self):\n",
    "\t\tself.assertRaises(TypeError, to_str, object())\n",
    "\n",
    "\n",
    "if __name__ == '__main__':\n",
    "\tmain()\n",
    "```\n",
    "\n",
    "I usually define one `TestCase` for each set of related tests. Sometimes I have one `TestCase` for each function that has many edge cases. Other times, a `TestCase` spans all functions in a single module. I’ll also create one `TestCase` for testing a single class and all of its methods.\n",
    "\n",
    "When programs get complicated, you’ll want additional tests for verifying the interactions between your modules, instead of only testing code in isolation. This is the difference between **unit tests** and **integration tests**. In Python, it’s important to write both types of tests for exactly the same reason: You have no guarantee that your modules will actually work together unless you prove it.\n",
    "\n",
    "See more info:\n",
    "* `unittest.mock`\n",
    "* `nose` package\n",
    "* `pytest` package\n"
   ]
  },
  {
   "cell_type": "markdown",
   "metadata": {},
   "source": [
    "## Item 57: Consider Interactive Debugging with pdb"
   ]
  },
  {
   "cell_type": "markdown",
   "metadata": {},
   "source": [
    "## Item 58: Profile Before Optimizing"
   ]
  },
  {
   "cell_type": "markdown",
   "metadata": {},
   "source": [
    "## Item 59: Use `tracemalloc` to Understand Memory Usage and Leaks"
   ]
  },
  {
   "cell_type": "code",
   "execution_count": null,
   "metadata": {
    "collapsed": true
   },
   "outputs": [],
   "source": []
  }
 ],
 "metadata": {
  "kernelspec": {
   "display_name": "Python 3",
   "language": "python",
   "name": "python3"
  },
  "language_info": {
   "codemirror_mode": {
    "name": "ipython",
    "version": 3
   },
   "file_extension": ".py",
   "mimetype": "text/x-python",
   "name": "python",
   "nbconvert_exporter": "python",
   "pygments_lexer": "ipython3",
   "version": "3.5.1"
  }
 },
 "nbformat": 4,
 "nbformat_minor": 0
}
