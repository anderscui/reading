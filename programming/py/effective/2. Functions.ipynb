{
 "cells": [
  {
   "cell_type": "markdown",
   "metadata": {},
   "source": [
    "The first organizational tool programmers use in Python is the `function`. Functions enable us to break large programs into smaller, simpler pieces. They improve readability and make code more approachable. They allow for reuse and refactoring.\n",
    "\n",
    "Functions in Python have a variety of extra features that make the programmer's life easier, some of which are uniqure to Python."
   ]
  },
  {
   "cell_type": "markdown",
   "metadata": {},
   "source": [
    "## Item 14: Prefer Exceptions to Returning None\n",
    "\n",
    "See the return value of the function below:"
   ]
  },
  {
   "cell_type": "code",
   "execution_count": 2,
   "metadata": {
    "collapsed": false
   },
   "outputs": [
    {
     "name": "stdout",
     "output_type": "stream",
     "text": [
      "Invalid inputs\n"
     ]
    }
   ],
   "source": [
    "def divide(a, b):\n",
    "    try:\n",
    "        return a / b\n",
    "    except ZeroDivisionError:\n",
    "        return None\n",
    "    \n",
    "# call the func\n",
    "x, y = 1, 0\n",
    "result = divide(x, y)\n",
    "if not result:\n",
    "    print('Invalid inputs') # wrong"
   ]
  },
  {
   "cell_type": "markdown",
   "metadata": {},
   "source": [
    "It seems natural to return `None` because the result is undefined. Then when we check the result, a common mistake occurs.\n",
    "\n",
    "This is why returning `None` is error prone. (`None` and other values, e.g. 0, '', all evaluate to `False` in conditional expressions). see the updated version:"
   ]
  },
  {
   "cell_type": "code",
   "execution_count": 3,
   "metadata": {
    "collapsed": false
   },
   "outputs": [
    {
     "name": "stdout",
     "output_type": "stream",
     "text": [
      "Result is 2.5\n"
     ]
    }
   ],
   "source": [
    "def divide(a, b):\n",
    "    try:\n",
    "        return a / b\n",
    "    except ZeroDivisionError as e:\n",
    "        raise ValueError('Invalid inputs') from e\n",
    "        \n",
    "x, y = 5, 2\n",
    "try:\n",
    "    result = divide(x, y)\n",
    "except ValueError:\n",
    "    print('Invalid inputs')\n",
    "else:\n",
    "    print('Result is %.1f' % result)"
   ]
  },
  {
   "cell_type": "markdown",
   "metadata": {},
   "source": [
    "Raise exceptions to indicate special situations instead of returning `None`. Expect the calling code to handle exceptions properly when they're documented."
   ]
  },
  {
   "cell_type": "markdown",
   "metadata": {},
   "source": [
    "## Item 15: Know How Closures Interact with Variable Scope\n",
    "\n",
    "Say you want to sort a list of numbers but prioritize one group of numbers to come first. This pattern is useful when you’re rendering a user interface and want important messages or exceptional events to be displayed before everything else.\n",
    "\n",
    "A common way to do this is to pass a helper function as the `key` argument to a list’s `sort` method."
   ]
  },
  {
   "cell_type": "code",
   "execution_count": 4,
   "metadata": {
    "collapsed": false
   },
   "outputs": [
    {
     "name": "stdout",
     "output_type": "stream",
     "text": [
      "[2, 3, 5, 7, 1, 4, 6, 8]\n"
     ]
    }
   ],
   "source": [
    "def sort_priority(values, group):\n",
    "    def helper(x):\n",
    "        if x in group:\n",
    "            return (0, x)\n",
    "        return (1, x)\n",
    "    values.sort(key=helper)\n",
    "    \n",
    "numbers = [8, 3, 1, 2, 5, 4, 7, 6]\n",
    "group = {2, 3, 5 ,7}\n",
    "sort_priority(numbers, group)\n",
    "print(numbers)"
   ]
  },
  {
   "cell_type": "markdown",
   "metadata": {},
   "source": [
    "There are 3 reasons why this func works:\n",
    "* Python support `closures`: functions that refer to variables from the scope in which they were defined. (helper accesses group argument)\n",
    "* Functions are `first-class` objects in Python.\n",
    "* Python has specific rules for comparing tuples.\n",
    "\n",
    "It'd be nice if this func returned whether higher-priority items were seen at all so the UI code can act accordingly."
   ]
  },
  {
   "cell_type": "code",
   "execution_count": 6,
   "metadata": {
    "collapsed": false
   },
   "outputs": [
    {
     "name": "stdout",
     "output_type": "stream",
     "text": [
      "Found higher priority items:  False\n",
      "[2, 3, 5, 7, 1, 4, 6, 8]\n"
     ]
    }
   ],
   "source": [
    "def sort_priority2(values, group):\n",
    "    found = False # scope: sort_priority2\n",
    "    def helper(x):\n",
    "        if x in group:\n",
    "            found = True # scope: helper\n",
    "            return (0, x)\n",
    "        return (1, x)\n",
    "    values.sort(key=helper)\n",
    "    return found\n",
    "    \n",
    "numbers = [8, 3, 1, 2, 5, 4, 7, 6]\n",
    "group = {2, 3, 5 ,7}\n",
    "found = sort_priority2(numbers, group)\n",
    "print('Found higher priority items: ', found)\n",
    "print(numbers)"
   ]
  },
  {
   "cell_type": "markdown",
   "metadata": {},
   "source": [
    "The result is `False`! How could this be happen?\n",
    "\n",
    "**When we reference a var in an exp**, the Python interpreter will traverse the scope to resolve the reference in this order:\n",
    "\n",
    "1. The current func's scope\n",
    "2. Any closing scopes\n",
    "3. The scope of the module that contains the code (global scope)\n",
    "4. The built-in scope (like `len` and `str`)\n",
    "\n",
    "Otherwise, a `NameError` exception is raised.\n",
    "\n",
    "**Assigning a value to a var works differently.** If the var doesn't exist in the current scope, Python treats the assignment as a var def.\n",
    "\n",
    "### Getting Data Out\n",
    "\n",
    "In Python 3, there is special syntax for getting data out of closure: the `nonlocal` statement."
   ]
  },
  {
   "cell_type": "code",
   "execution_count": 7,
   "metadata": {
    "collapsed": false
   },
   "outputs": [
    {
     "name": "stdout",
     "output_type": "stream",
     "text": [
      "Found higher priority items:  True\n",
      "[2, 3, 5, 7, 1, 4, 6, 8]\n"
     ]
    }
   ],
   "source": [
    "def sort_priority3(values, group):\n",
    "    found = False\n",
    "    def helper(x):\n",
    "        nonlocal found\n",
    "        if x in group:\n",
    "            found = True\n",
    "            return (0, x)\n",
    "        return (1, x)\n",
    "    values.sort(key=helper)\n",
    "    return found\n",
    "    \n",
    "numbers = [8, 3, 1, 2, 5, 4, 7, 6]\n",
    "group = {2, 3, 5 ,7}\n",
    "found = sort_priority3(numbers, group)\n",
    "print('Found higher priority items: ', found)\n",
    "print(numbers)"
   ]
  },
  {
   "cell_type": "markdown",
   "metadata": {},
   "source": [
    "The `nonlocal` statement makes it clear when data is being assigned out of a closure into another scope. When your usage of nonlocal starts getting complicated, it's better to wrap your state in a helper class."
   ]
  },
  {
   "cell_type": "code",
   "execution_count": 8,
   "metadata": {
    "collapsed": false
   },
   "outputs": [
    {
     "name": "stdout",
     "output_type": "stream",
     "text": [
      "Found higher priority items:  True\n",
      "[2, 3, 5, 7, 1, 4, 6, 8]\n"
     ]
    }
   ],
   "source": [
    "class Sorter(object):\n",
    "    def __init__(self, group):\n",
    "        self.group = group\n",
    "        self.found = False\n",
    "        \n",
    "    def __call__(self, x):\n",
    "        if x in self.group:\n",
    "            self.found = True\n",
    "            return (0, x)\n",
    "        return (1, x)\n",
    "    \n",
    "numbers = [8, 3, 1, 2, 5, 4, 7, 6]\n",
    "group = {2, 3, 5 ,7}\n",
    "sorter = Sorter(group)\n",
    "numbers.sort(key=sorter)\n",
    "print('Found higher priority items: ', sorter.found)\n",
    "print(numbers)"
   ]
  },
  {
   "cell_type": "markdown",
   "metadata": {
    "collapsed": true
   },
   "source": [
    "## Item 16: Consider Generators Instead of Returning Lists\n",
    "\n",
    "The simplest choice for funcs that produce a seq of results is to return a list of items."
   ]
  },
  {
   "cell_type": "code",
   "execution_count": 9,
   "metadata": {
    "collapsed": false
   },
   "outputs": [
    {
     "name": "stdout",
     "output_type": "stream",
     "text": [
      "[0, 5, 11]\n"
     ]
    }
   ],
   "source": [
    "def index_words(text):\n",
    "    result = []\n",
    "    if text:\n",
    "        result.append(0)\n",
    "    for index, letter in enumerate(text):\n",
    "        if letter == ' ':\n",
    "            result.append(index+1)\n",
    "    return result\n",
    "\n",
    "address = 'Four score and seven years ago...'\n",
    "result = index_words(address)\n",
    "print(result[:3])"
   ]
  },
  {
   "cell_type": "markdown",
   "metadata": {},
   "source": [
    "There are two problems with the `index_words` function.\n",
    "1. **the code is a bit dense and noisy**. A better way to write this func is using a `generator`. When called, generator funcs do not actually run but instead immediately return an iterator.\n",
    "2. **the func requires all results to be stored in the list before being returned**, for huge inputs, this can cause your program to run out of memory and crash."
   ]
  },
  {
   "cell_type": "code",
   "execution_count": 11,
   "metadata": {
    "collapsed": false
   },
   "outputs": [
    {
     "name": "stdout",
     "output_type": "stream",
     "text": [
      "[0, 5, 11]\n"
     ]
    }
   ],
   "source": [
    "# problem 1\n",
    "def index_words(text):\n",
    "    if text:\n",
    "        yield 0\n",
    "    for index, letter in enumerate(text):\n",
    "        if letter == ' ':\n",
    "            yield index+1\n",
    "\n",
    "address = 'Four score and seven years ago...'\n",
    "result = list(index_words(address))\n",
    "print(result[:3])"
   ]
  },
  {
   "cell_type": "markdown",
   "metadata": {},
   "source": [
    "It's much clearer because we don't need to maintain the list container manually."
   ]
  },
  {
   "cell_type": "code",
   "execution_count": 21,
   "metadata": {
    "collapsed": false
   },
   "outputs": [
    {
     "name": "stdout",
     "output_type": "stream",
     "text": [
      "[0, 5, 11, 15, 21, 27]\n"
     ]
    }
   ],
   "source": [
    "from itertools import islice\n",
    "\n",
    "# problem 2\n",
    "def index_file(handle):\n",
    "    offset = 0\n",
    "    for line in handle:\n",
    "        if line:\n",
    "            yield offset\n",
    "        for letter in line:\n",
    "            offset += 1\n",
    "            if letter == ' ':\n",
    "                yield offset\n",
    "                \n",
    "with open('address.txt', 'r') as f:\n",
    "    it = index_file(f)\n",
    "    results = islice(it, 0, 6)\n",
    "    print(list(results))"
   ]
  },
  {
   "cell_type": "markdown",
   "metadata": {},
   "source": [
    "## Item 17: Be Defensive When Iterating Over Arguments"
   ]
  },
  {
   "cell_type": "markdown",
   "metadata": {},
   "source": [
    "## Item 18: Reduce Visual Noise with Variable Positional Arguments\n",
    "\n",
    "Accepting optinal positional arguments (often call *star args* in reference to the conventional name for the parameter, `*args`) can make a func call more clear and remove *visual noise*.\n",
    "\n",
    "Say you have a logging func:"
   ]
  },
  {
   "cell_type": "code",
   "execution_count": 24,
   "metadata": {
    "collapsed": false
   },
   "outputs": [
    {
     "name": "stdout",
     "output_type": "stream",
     "text": [
      "My numbers are: 1,2\n",
      "Hi there\n"
     ]
    }
   ],
   "source": [
    "def log(msg, values):\n",
    "    if not values:\n",
    "        print(msg)\n",
    "    else:\n",
    "        values_str = ','.join(str(x) for x in values)\n",
    "        print('%s: %s' %(msg, values_str))\n",
    "        \n",
    "log('My numbers are', [1, 2])\n",
    "log('Hi there', [])"
   ]
  },
  {
   "cell_type": "markdown",
   "metadata": {},
   "source": [
    "Having to pass an empty list when you have no values to log is **cumbersome and noisy**. So update it to:"
   ]
  },
  {
   "cell_type": "code",
   "execution_count": 29,
   "metadata": {
    "collapsed": false
   },
   "outputs": [
    {
     "name": "stdout",
     "output_type": "stream",
     "text": [
      "My numbers are: 1,2\n",
      "Hi there\n",
      "My numbers are: [1, 2]\n",
      "My numbers are: 1,2\n"
     ]
    }
   ],
   "source": [
    "def log(msg, *values):\n",
    "    if not values:\n",
    "        print(msg)\n",
    "    else:\n",
    "        values_str = ','.join(str(x) for x in values)\n",
    "        print('%s: %s' %(msg, values_str))\n",
    "        \n",
    "log('My numbers are', 1, 2)\n",
    "log('Hi there')\n",
    "\n",
    "# you already have a list\n",
    "log('My numbers are', [1, 2])\n",
    "log('My numbers are', *[1, 2])"
   ]
  },
  {
   "cell_type": "markdown",
   "metadata": {},
   "source": [
    "Whether you values to pass, it looks more natural. Note the diff between the 3rd and 4th calling.\n",
    "\n",
    "Issues of star args\n",
    "* the variable arguments are always turned into a tuple before they are passed to your function. So for large generator, it's not good choice.\n",
    "* with `*args`, we can't add new positional arguments to you func in the future without migrating every caller.\n",
    "\n",
    "For the second issue, use keyword arguments."
   ]
  },
  {
   "cell_type": "markdown",
   "metadata": {},
   "source": [
    "## Item 19: Provide Optional Behavior with Keyword Arguments\n",
    "\n",
    "All positional arguments to Python functions can also be passed by keyword.\n",
    "\n",
    "Positional arguments must be specified before keyword arguments."
   ]
  },
  {
   "cell_type": "code",
   "execution_count": 31,
   "metadata": {
    "collapsed": false
   },
   "outputs": [
    {
     "name": "stdout",
     "output_type": "stream",
     "text": [
      "6\n",
      "6\n",
      "6\n",
      "6\n"
     ]
    }
   ],
   "source": [
    "def remainder(number, divisor):\n",
    "    return number % divisor\n",
    "\n",
    "print(remainder(20, 7))\n",
    "print(remainder(20, divisor=7))\n",
    "print(remainder(number=20, divisor=7))\n",
    "print(remainder(divisor=7, number=20))"
   ]
  },
  {
   "cell_type": "markdown",
   "metadata": {},
   "source": [
    "Three benefits\n",
    "* keyword args make the function call clearer to new readers\n",
    "* they can have default values in func def\n",
    "* they provide a powerful way to extend a func's params while remaining backwards compatible with existing callers.\n",
    "\n",
    "A best practice is to always specify optinal arguments using the keyword names and never pass them as positional arguments.\n",
    "\n",
    "## Item 20: Use `None` and Docstrings to Specify Dynamic Default Arguments\n",
    "\n",
    "Sometimes you need to use a non-static type as a keyword argument's default value."
   ]
  },
  {
   "cell_type": "code",
   "execution_count": 32,
   "metadata": {
    "collapsed": false
   },
   "outputs": [
    {
     "name": "stdout",
     "output_type": "stream",
     "text": [
      "2016-06-08 15:23:51.716590: Hi there!\n",
      "2016-06-08 15:23:51.716590: Hi again!\n"
     ]
    }
   ],
   "source": [
    "from datetime import datetime\n",
    "from time import sleep\n",
    "\n",
    "def log(msg, when=datetime.now()):\n",
    "    print('%s: %s' % (when, msg))\n",
    "    \n",
    "log('Hi there!')\n",
    "sleep(1)\n",
    "log('Hi again!')\n"
   ]
  },
  {
   "cell_type": "markdown",
   "metadata": {},
   "source": [
    "The timestamps are the same because `datetime.now` is only executed a single time: when it's defined. **Default arg values are evaluated only once per module load**.\n",
    "\n",
    "The convention for achieving the desired result in Python is to provide a default value of `None` and to document the actual behavior in the docstring."
   ]
  },
  {
   "cell_type": "code",
   "execution_count": 33,
   "metadata": {
    "collapsed": false
   },
   "outputs": [
    {
     "name": "stdout",
     "output_type": "stream",
     "text": [
      "2016-06-08 15:28:06.695625: Hi there!\n",
      "2016-06-08 15:28:07.699474: Hi again!\n"
     ]
    }
   ],
   "source": [
    "def log(msg, when=None):\n",
    "    \"\"\"Log a message with a timestamp\n",
    "    \n",
    "    Args:\n",
    "        msg: message to print.\n",
    "        when: datetime of when the msg occurred.\n",
    "            defaults to the present time.\n",
    "    \"\"\"\n",
    "    when = datetime.now() if when is None else when\n",
    "    print('%s: %s' % (when, msg))\n",
    "    \n",
    "log('Hi there!')\n",
    "sleep(1)\n",
    "log('Hi again!')"
   ]
  },
  {
   "cell_type": "code",
   "execution_count": 4,
   "metadata": {
    "collapsed": false
   },
   "outputs": [
    {
     "name": "stdout",
     "output_type": "stream",
     "text": [
      "foo: {'meep': 1, 'stuff': 5}\n",
      "bar: {'meep': 1, 'stuff': 5}\n"
     ]
    }
   ],
   "source": [
    "import json\n",
    "\n",
    "# dangerous behavior\n",
    "def decode(data, default={}):\n",
    "    try:\n",
    "        return json.loads(data)\n",
    "    except ValueError:\n",
    "        return default\n",
    "    \n",
    "foo = decode('bad data')\n",
    "foo['stuff'] = 5\n",
    "\n",
    "bar = decode('also bad')\n",
    "bar['meep'] = 1\n",
    "\n",
    "print('foo:', foo)\n",
    "print('bar:', bar)\n",
    "assert foo is bar"
   ]
  },
  {
   "cell_type": "markdown",
   "metadata": {
    "collapsed": true
   },
   "source": [
    "## Item 21: Enforce Clarity with Keyword-Only Arguments\n",
    "\n"
   ]
  },
  {
   "cell_type": "code",
   "execution_count": 5,
   "metadata": {
    "collapsed": false
   },
   "outputs": [
    {
     "name": "stdout",
     "output_type": "stream",
     "text": [
      "0.0\n",
      "inf\n"
     ]
    }
   ],
   "source": [
    "def safe_division(number, divisor, \n",
    "                  ignore_overflow=False,\n",
    "                  ignore_zero_division=False):\n",
    "    try:\n",
    "        return number / divisor\n",
    "    except OverflowError:\n",
    "        if ignore_overflow:\n",
    "            return 0\n",
    "        else:\n",
    "            raise\n",
    "    except ZeroDivisionError:\n",
    "        if ignore_zero_division:\n",
    "            return float('inf')\n",
    "        else:\n",
    "            raise\n",
    "            \n",
    "print(safe_division(1, 10**500, ignore_overflow=True))\n",
    "print(safe_division(1, 0, ignore_zero_division=True))"
   ]
  },
  {
   "cell_type": "markdown",
   "metadata": {},
   "source": [
    "The problem is, since these keyword arguments are optional behavior, there's nothing forcing callers to use keyword args for clarity. See the new `*` symbol:"
   ]
  },
  {
   "cell_type": "code",
   "execution_count": 7,
   "metadata": {
    "collapsed": false
   },
   "outputs": [
    {
     "name": "stdout",
     "output_type": "stream",
     "text": [
      "0.0\n",
      "inf\n"
     ]
    }
   ],
   "source": [
    "# python 3\n",
    "def safe_division(number, divisor, *,\n",
    "                  ignore_overflow=False,\n",
    "                  ignore_zero_division=False):\n",
    "    try:\n",
    "        return number / divisor\n",
    "    except OverflowError:\n",
    "        if ignore_overflow:\n",
    "            return 0\n",
    "        else:\n",
    "            raise\n",
    "    except ZeroDivisionError:\n",
    "        if ignore_zero_division:\n",
    "            return float('inf')\n",
    "        else:\n",
    "            raise\n",
    "            \n",
    "print(safe_division(1, 10**500, ignore_overflow=True))\n",
    "print(safe_division(1, 0, ignore_zero_division=True))"
   ]
  },
  {
   "cell_type": "code",
   "execution_count": 8,
   "metadata": {
    "collapsed": false
   },
   "outputs": [
    {
     "name": "stdout",
     "output_type": "stream",
     "text": [
      "Positional: (1, 2)\n",
      "Keyword: {'foo': 'bar', 'stuff': 'meep'}\n"
     ]
    }
   ],
   "source": [
    "# python 2\n",
    "def print_args(*args, **kwargs):\n",
    "    print('Positional:', args)\n",
    "    print('Keyword:', kwargs)\n",
    "    \n",
    "print_args(1, 2, foo='bar', stuff='meep')"
   ]
  },
  {
   "cell_type": "code",
   "execution_count": 11,
   "metadata": {
    "collapsed": false
   },
   "outputs": [
    {
     "name": "stdout",
     "output_type": "stream",
     "text": [
      "2.857142857142857\n",
      "0.0\n",
      "inf\n"
     ]
    }
   ],
   "source": [
    "# python 2\n",
    "def safe_division2(number, divisor, **kwargs):\n",
    "    \n",
    "    ignore_overflow = kwargs.pop('ignore_overflow', False)\n",
    "    ignore_zero_division = kwargs.pop('ignore_zero_division', False)\n",
    "    \n",
    "    if kwargs:\n",
    "        raise TypeError('Unexpected **kwargs: %r' % kwargs)\n",
    "    \n",
    "    try:\n",
    "        return number / divisor\n",
    "    except OverflowError:\n",
    "        if ignore_overflow:\n",
    "            return 0\n",
    "        else:\n",
    "            raise\n",
    "    except ZeroDivisionError:\n",
    "        if ignore_zero_division:\n",
    "            return float('inf')\n",
    "        else:\n",
    "            raise\n",
    "            \n",
    "print(safe_division(20, 7))\n",
    "print(safe_division(1, 10**500, ignore_overflow=True))\n",
    "print(safe_division(1, 0, ignore_zero_division=True))"
   ]
  },
  {
   "cell_type": "code",
   "execution_count": 14,
   "metadata": {
    "collapsed": false
   },
   "outputs": [],
   "source": [
    "# TypeError\n",
    "#safe_division2(1, 0, False, True)\n",
    "\n",
    "# TypeError: Unexpected **kwargs: {'unexpected': True}\n",
    "#safe_division2(0, 0, unexpected=True)"
   ]
  },
  {
   "cell_type": "code",
   "execution_count": null,
   "metadata": {
    "collapsed": true
   },
   "outputs": [],
   "source": []
  }
 ],
 "metadata": {
  "kernelspec": {
   "display_name": "Python 3",
   "language": "python",
   "name": "python3"
  },
  "language_info": {
   "codemirror_mode": {
    "name": "ipython",
    "version": 3
   },
   "file_extension": ".py",
   "mimetype": "text/x-python",
   "name": "python",
   "nbconvert_exporter": "python",
   "pygments_lexer": "ipython3",
   "version": "3.5.1"
  }
 },
 "nbformat": 4,
 "nbformat_minor": 0
}
